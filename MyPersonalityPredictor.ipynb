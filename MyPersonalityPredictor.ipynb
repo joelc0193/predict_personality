{
 "cells": [
  {
   "cell_type": "code",
   "execution_count": 1,
   "metadata": {
    "id": "UZ0zUSVzSFvU"
   },
   "outputs": [],
   "source": [
    "import pandas as pd\n",
    "import re\n",
    "from tqdm import tqdm\n",
    "from sklearn.feature_extraction.text import TfidfVectorizer\n",
    "from nltk.stem import WordNetLemmatizer\n",
    "from sklearn.model_selection import train_test_split\n",
    "from nltk.corpus import wordnet\n",
    "from sklearn.preprocessing import LabelEncoder\n",
    "from sklearn.linear_model import LogisticRegression\n",
    "from sklearn.metrics import classification_report\n",
    "from sklearn.svm import SVC,LinearSVC\n",
    "from sklearn.metrics import accuracy_score\n",
    "\n",
    "# Read in data\n",
    "data = pd.read_csv('mbti_1.csv')"
   ]
  },
  {
   "cell_type": "code",
   "execution_count": 2,
   "metadata": {
    "id": "Fydme2HYT4uH"
   },
   "outputs": [],
   "source": [
    "# Stratify split to ensure equal distribution of data\n",
    "train_data,test_data=train_test_split(data,test_size=0.2,random_state=42,stratify=data.type)"
   ]
  },
  {
   "cell_type": "code",
   "execution_count": 3,
   "metadata": {
    "colab": {
     "base_uri": "https://localhost:8080/"
    },
    "id": "FL-UnI9qSQtZ",
    "outputId": "deab541c-650c-42c7-999a-941082615b3a"
   },
   "outputs": [
    {
     "name": "stderr",
     "output_type": "stream",
     "text": [
      "100%|██████████| 6940/6940 [00:03<00:00, 2126.07it/s]\n",
      "<ipython-input-3-26caf0c038c7>:18: SettingWithCopyWarning: \n",
      "A value is trying to be set on a copy of a slice from a DataFrame.\n",
      "Try using .loc[row_indexer,col_indexer] = value instead\n",
      "\n",
      "See the caveats in the documentation: https://pandas.pydata.org/pandas-docs/stable/user_guide/indexing.html#returning-a-view-versus-a-copy\n",
      "  train_data.posts,train_length=clear_text(train_data)\n",
      "100%|██████████| 1735/1735 [00:00<00:00, 2053.50it/s]\n",
      "<ipython-input-3-26caf0c038c7>:19: SettingWithCopyWarning: \n",
      "A value is trying to be set on a copy of a slice from a DataFrame.\n",
      "Try using .loc[row_indexer,col_indexer] = value instead\n",
      "\n",
      "See the caveats in the documentation: https://pandas.pydata.org/pandas-docs/stable/user_guide/indexing.html#returning-a-view-versus-a-copy\n",
      "  test_data.posts,test_length=clear_text(test_data)\n"
     ]
    }
   ],
   "source": [
    "# Clean data\n",
    "def clear_text(data):\n",
    "    data_length=[]\n",
    "    cleaned_text=[]\n",
    "    for sentence in tqdm(data.posts):\n",
    "        sentence=sentence.lower()\n",
    "        \n",
    "#         removing links from text data\n",
    "        sentence=re.sub('https?://[^\\s<>\"]+|www\\.[^\\s<>\"]+',' ',sentence)\n",
    "    \n",
    "#         removing other symbols\n",
    "        sentence=re.sub('[^0-9a-z]',' ',sentence)\n",
    "  \n",
    "        data_length.append(len(sentence.split()))\n",
    "        cleaned_text.append(sentence)\n",
    "    return cleaned_text,data_length\n",
    "\n",
    "train_data.posts,train_length=clear_text(train_data)\n",
    "test_data.posts,test_length=clear_text(test_data)"
   ]
  },
  {
   "cell_type": "code",
   "execution_count": 4,
   "metadata": {
    "colab": {
     "base_uri": "https://localhost:8080/"
    },
    "id": "uI6Fv3qTTZQT",
    "outputId": "9761c55e-a773-441d-d612-c2dea9288004"
   },
   "outputs": [
    {
     "name": "stderr",
     "output_type": "stream",
     "text": [
      "[nltk_data] Downloading package averaged_perceptron_tagger to\n",
      "[nltk_data]     /usr/local/lib/nltk_data...\n",
      "[nltk_data]   Unzipping taggers/averaged_perceptron_tagger.zip.\n",
      "[nltk_data] Downloading package wordnet to /usr/local/lib/nltk_data...\n",
      "[nltk_data]   Package wordnet is already up-to-date!\n",
      "/Library/anaconda3/envs/ml/lib/python3.9/site-packages/sklearn/feature_extraction/text.py:489: UserWarning: The parameter 'token_pattern' will not be used since 'tokenizer' is not None'\n",
      "  warnings.warn(\"The parameter 'token_pattern' will not be used\"\n",
      "/Library/anaconda3/envs/ml/lib/python3.9/site-packages/sklearn/feature_extraction/text.py:388: UserWarning: Your stop_words may be inconsistent with your preprocessing. Tokenizing the stop words generated tokens ['far', 'make'] not in stop_words.\n",
      "  warnings.warn('Your stop_words may be inconsistent with '\n"
     ]
    },
    {
     "data": {
      "text/plain": [
       "TfidfVectorizer(max_features=5000, stop_words='english',\n",
       "                tokenizer=<__main__.Lemmatizer object at 0x12534dbe0>)"
      ]
     },
     "execution_count": 4,
     "metadata": {},
     "output_type": "execute_result"
    }
   ],
   "source": [
    "# Lemmatize and create td-idf\n",
    "def get_wordnet_pos(word):\n",
    "    \"\"\"Map POS tag to first character lemmatize() accepts\"\"\"\n",
    "    tag = nltk.pos_tag([word])[0][1][0].upper()\n",
    "    tag_dict = {\"J\": wordnet.ADJ,\n",
    "                \"N\": wordnet.NOUN,\n",
    "                \"V\": wordnet.VERB,\n",
    "                \"R\": wordnet.ADV}\n",
    "\n",
    "    return tag_dict.get(tag, wordnet.NOUN)\n",
    "\n",
    "class Lemmatizer(object):\n",
    "    def __init__(self):\n",
    "        self.lemmatizer = WordNetLemmatizer()\n",
    "    def __call__(self, sentence):\n",
    "        return [self.lemmatizer.lemmatize(word, get_wordnet_pos(word)) for word in sentence.split() if len(word)>2]\n",
    "\n",
    "import nltk\n",
    "nltk.download('averaged_perceptron_tagger')\n",
    "nltk.download('wordnet')\n",
    "vectorizer=TfidfVectorizer( max_features=5000,stop_words='english',tokenizer=Lemmatizer())\n",
    "vectorizer.fit(train_data.posts)"
   ]
  },
  {
   "cell_type": "code",
   "execution_count": 5,
   "metadata": {
    "id": "3zVBMgxxU2BM"
   },
   "outputs": [],
   "source": [
    "# Convert input data to Document-Term Matrix using tf-idf data\n",
    "train_post=vectorizer.transform(train_data.posts).toarray()\n",
    "test_post=vectorizer.transform(test_data.posts).toarray()"
   ]
  },
  {
   "cell_type": "code",
   "execution_count": 6,
   "metadata": {
    "id": "pOShoaQYSl1H"
   },
   "outputs": [],
   "source": [
    "# Create labels for outputs\n",
    "target_encoder=LabelEncoder()\n",
    "train_target=target_encoder.fit_transform(train_data.type)\n",
    "test_target=target_encoder.fit_transform(test_data.type)"
   ]
  },
  {
   "cell_type": "code",
   "execution_count": 7,
   "metadata": {
    "colab": {
     "base_uri": "https://localhost:8080/"
    },
    "id": "Isef63cvVIwq",
    "outputId": "403aea09-49c9-49f6-f6e7-8b924d4aeda8"
   },
   "outputs": [
    {
     "data": {
      "text/plain": [
       "LogisticRegression(C=0.5, max_iter=3000, n_jobs=-1)"
      ]
     },
     "execution_count": 7,
     "metadata": {},
     "output_type": "execute_result"
    }
   ],
   "source": [
    "# Logistic Regression\n",
    "model_log=LogisticRegression(max_iter=3000,C=0.5,n_jobs=-1)\n",
    "model_log.fit(train_post,train_target)"
   ]
  },
  {
   "cell_type": "code",
   "execution_count": 8,
   "metadata": {
    "colab": {
     "base_uri": "https://localhost:8080/"
    },
    "id": "rV9za9YZdBQC",
    "outputId": "3de594a7-e4c6-476b-d4e3-a0ce420d8019"
   },
   "outputs": [
    {
     "name": "stdout",
     "output_type": "stream",
     "text": [
      "train classification report \n",
      "                precision    recall  f1-score   support\n",
      "\n",
      "        ENFJ       0.85      0.15      0.26       152\n",
      "        ENFP       0.81      0.65      0.72       540\n",
      "        ENTJ       0.93      0.29      0.44       185\n",
      "        ENTP       0.82      0.67      0.74       548\n",
      "        ESFJ       0.00      0.00      0.00        34\n",
      "        ESFP       0.00      0.00      0.00        38\n",
      "        ESTJ       0.00      0.00      0.00        31\n",
      "        ESTP       1.00      0.04      0.08        71\n",
      "        INFJ       0.74      0.83      0.78      1176\n",
      "        INFP       0.66      0.93      0.77      1465\n",
      "        INTJ       0.74      0.81      0.78       873\n",
      "        INTP       0.69      0.87      0.77      1043\n",
      "        ISFJ       0.89      0.25      0.39       133\n",
      "        ISFP       0.86      0.25      0.39       217\n",
      "        ISTJ       0.83      0.27      0.41       164\n",
      "        ISTP       0.87      0.53      0.66       270\n",
      "\n",
      "    accuracy                           0.72      6940\n",
      "   macro avg       0.67      0.41      0.45      6940\n",
      "weighted avg       0.74      0.72      0.70      6940\n",
      "\n"
     ]
    },
    {
     "name": "stderr",
     "output_type": "stream",
     "text": [
      "/Library/anaconda3/envs/ml/lib/python3.9/site-packages/sklearn/metrics/_classification.py:1245: UndefinedMetricWarning: Precision and F-score are ill-defined and being set to 0.0 in labels with no predicted samples. Use `zero_division` parameter to control this behavior.\n",
      "  _warn_prf(average, modifier, msg_start, len(result))\n",
      "/Library/anaconda3/envs/ml/lib/python3.9/site-packages/sklearn/metrics/_classification.py:1245: UndefinedMetricWarning: Precision and F-score are ill-defined and being set to 0.0 in labels with no predicted samples. Use `zero_division` parameter to control this behavior.\n",
      "  _warn_prf(average, modifier, msg_start, len(result))\n",
      "/Library/anaconda3/envs/ml/lib/python3.9/site-packages/sklearn/metrics/_classification.py:1245: UndefinedMetricWarning: Precision and F-score are ill-defined and being set to 0.0 in labels with no predicted samples. Use `zero_division` parameter to control this behavior.\n",
      "  _warn_prf(average, modifier, msg_start, len(result))\n"
     ]
    }
   ],
   "source": [
    "print('train classification report \\n ',classification_report(train_target,model_log.predict(train_post),target_names=target_encoder.inverse_transform([i for i in range(16)])))"
   ]
  },
  {
   "cell_type": "code",
   "execution_count": 9,
   "metadata": {
    "colab": {
     "base_uri": "https://localhost:8080/"
    },
    "id": "a-MLk5wgdFfI",
    "outputId": "c479cd35-61da-47c0-8f45-3554ed746384"
   },
   "outputs": [
    {
     "name": "stdout",
     "output_type": "stream",
     "text": [
      "test classification report \n",
      "               precision    recall  f1-score   support\n",
      "\n",
      "        ENFJ       1.00      0.08      0.15        38\n",
      "        ENFP       0.74      0.54      0.62       135\n",
      "        ENTJ       0.67      0.13      0.22        46\n",
      "        ENTP       0.65      0.50      0.56       137\n",
      "        ESFJ       0.00      0.00      0.00         8\n",
      "        ESFP       0.00      0.00      0.00        10\n",
      "        ESTJ       0.00      0.00      0.00         8\n",
      "        ESTP       0.00      0.00      0.00        18\n",
      "        INFJ       0.65      0.72      0.68       294\n",
      "        INFP       0.57      0.88      0.69       367\n",
      "        INTJ       0.64      0.68      0.66       218\n",
      "        INTP       0.67      0.83      0.74       261\n",
      "        ISFJ       0.67      0.12      0.21        33\n",
      "        ISFP       0.92      0.20      0.33        54\n",
      "        ISTJ       0.50      0.05      0.09        41\n",
      "        ISTP       0.68      0.45      0.54        67\n",
      "\n",
      "    accuracy                           0.63      1735\n",
      "   macro avg       0.52      0.32      0.34      1735\n",
      "weighted avg       0.64      0.63      0.59      1735\n",
      "\n"
     ]
    },
    {
     "name": "stderr",
     "output_type": "stream",
     "text": [
      "/Library/anaconda3/envs/ml/lib/python3.9/site-packages/sklearn/metrics/_classification.py:1245: UndefinedMetricWarning: Precision and F-score are ill-defined and being set to 0.0 in labels with no predicted samples. Use `zero_division` parameter to control this behavior.\n",
      "  _warn_prf(average, modifier, msg_start, len(result))\n",
      "/Library/anaconda3/envs/ml/lib/python3.9/site-packages/sklearn/metrics/_classification.py:1245: UndefinedMetricWarning: Precision and F-score are ill-defined and being set to 0.0 in labels with no predicted samples. Use `zero_division` parameter to control this behavior.\n",
      "  _warn_prf(average, modifier, msg_start, len(result))\n",
      "/Library/anaconda3/envs/ml/lib/python3.9/site-packages/sklearn/metrics/_classification.py:1245: UndefinedMetricWarning: Precision and F-score are ill-defined and being set to 0.0 in labels with no predicted samples. Use `zero_division` parameter to control this behavior.\n",
      "  _warn_prf(average, modifier, msg_start, len(result))\n"
     ]
    }
   ],
   "source": [
    "print('test classification report \\n',classification_report(test_target,model_log.predict(test_post),target_names=target_encoder.inverse_transform([i for i in range(16)])))"
   ]
  },
  {
   "cell_type": "code",
   "execution_count": 10,
   "metadata": {
    "colab": {
     "base_uri": "https://localhost:8080/"
    },
    "id": "JdGLGfBhdHNT",
    "outputId": "9b368659-dbee-4487-b851-60eaa1e4e039"
   },
   "outputs": [
    {
     "data": {
      "text/plain": [
       "SVC()"
      ]
     },
     "execution_count": 10,
     "metadata": {},
     "output_type": "execute_result"
    }
   ],
   "source": [
    "model_svc=SVC()\n",
    "model_svc.fit(train_post,train_target)"
   ]
  },
  {
   "cell_type": "code",
   "execution_count": 11,
   "metadata": {
    "colab": {
     "base_uri": "https://localhost:8080/"
    },
    "id": "xxDuHbgddbSD",
    "outputId": "edb2655c-e9a0-4c0c-806e-3c1525020ce2"
   },
   "outputs": [
    {
     "name": "stdout",
     "output_type": "stream",
     "text": [
      "train classification report \n",
      "                precision    recall  f1-score   support\n",
      "\n",
      "        ENFJ       0.96      0.84      0.90       152\n",
      "        ENFP       0.95      0.94      0.95       540\n",
      "        ENTJ       0.98      0.89      0.93       185\n",
      "        ENTP       0.95      0.96      0.95       548\n",
      "        ESFJ       1.00      0.59      0.74        34\n",
      "        ESFP       1.00      0.37      0.54        38\n",
      "        ESTJ       1.00      0.52      0.68        31\n",
      "        ESTP       1.00      0.82      0.90        71\n",
      "        INFJ       0.95      0.96      0.95      1176\n",
      "        INFP       0.92      0.98      0.95      1465\n",
      "        INTJ       0.96      0.96      0.96       873\n",
      "        INTP       0.94      0.97      0.95      1043\n",
      "        ISFJ       0.99      0.89      0.94       133\n",
      "        ISFP       0.97      0.88      0.93       217\n",
      "        ISTJ       0.94      0.91      0.92       164\n",
      "        ISTP       0.97      0.93      0.95       270\n",
      "\n",
      "    accuracy                           0.95      6940\n",
      "   macro avg       0.97      0.84      0.88      6940\n",
      "weighted avg       0.95      0.95      0.94      6940\n",
      "\n",
      "test classification report \n",
      "                precision    recall  f1-score   support\n",
      "\n",
      "        ENFJ       0.65      0.29      0.40        38\n",
      "        ENFP       0.75      0.56      0.64       135\n",
      "        ENTJ       0.70      0.30      0.42        46\n",
      "        ENTP       0.63      0.52      0.57       137\n",
      "        ESFJ       0.33      0.12      0.18         8\n",
      "        ESFP       0.00      0.00      0.00        10\n",
      "        ESTJ       0.00      0.00      0.00         8\n",
      "        ESTP       0.67      0.22      0.33        18\n",
      "        INFJ       0.67      0.67      0.67       294\n",
      "        INFP       0.59      0.85      0.69       367\n",
      "        INTJ       0.63      0.62      0.63       218\n",
      "        INTP       0.64      0.82      0.72       261\n",
      "        ISFJ       0.82      0.27      0.41        33\n",
      "        ISFP       0.79      0.35      0.49        54\n",
      "        ISTJ       0.76      0.32      0.45        41\n",
      "        ISTP       0.74      0.55      0.63        67\n",
      "\n",
      "    accuracy                           0.64      1735\n",
      "   macro avg       0.59      0.40      0.45      1735\n",
      "weighted avg       0.65      0.64      0.63      1735\n",
      "\n"
     ]
    },
    {
     "name": "stderr",
     "output_type": "stream",
     "text": [
      "/Library/anaconda3/envs/ml/lib/python3.9/site-packages/sklearn/metrics/_classification.py:1245: UndefinedMetricWarning: Precision and F-score are ill-defined and being set to 0.0 in labels with no predicted samples. Use `zero_division` parameter to control this behavior.\n",
      "  _warn_prf(average, modifier, msg_start, len(result))\n",
      "/Library/anaconda3/envs/ml/lib/python3.9/site-packages/sklearn/metrics/_classification.py:1245: UndefinedMetricWarning: Precision and F-score are ill-defined and being set to 0.0 in labels with no predicted samples. Use `zero_division` parameter to control this behavior.\n",
      "  _warn_prf(average, modifier, msg_start, len(result))\n",
      "/Library/anaconda3/envs/ml/lib/python3.9/site-packages/sklearn/metrics/_classification.py:1245: UndefinedMetricWarning: Precision and F-score are ill-defined and being set to 0.0 in labels with no predicted samples. Use `zero_division` parameter to control this behavior.\n",
      "  _warn_prf(average, modifier, msg_start, len(result))\n"
     ]
    }
   ],
   "source": [
    "print('train classification report \\n ',classification_report(train_target,model_svc.predict(train_post),target_names=target_encoder.inverse_transform([i for i in range(16)])))\n",
    "print('test classification report \\n ',classification_report(test_target,model_svc.predict(test_post),target_names=target_encoder.inverse_transform([i for i in range(16)])))"
   ]
  },
  {
   "cell_type": "code",
   "execution_count": 12,
   "metadata": {
    "colab": {
     "base_uri": "https://localhost:8080/"
    },
    "id": "CmF-QB-zdwvg",
    "outputId": "adeed132-d09d-4671-e4f1-db29854768ad"
   },
   "outputs": [
    {
     "data": {
      "text/plain": [
       "LinearSVC(C=0.1)"
      ]
     },
     "execution_count": 12,
     "metadata": {},
     "output_type": "execute_result"
    }
   ],
   "source": [
    "model_linear_svc=LinearSVC(C=0.1)\n",
    "model_linear_svc.fit(train_post,train_target)"
   ]
  },
  {
   "cell_type": "code",
   "execution_count": 13,
   "metadata": {
    "colab": {
     "base_uri": "https://localhost:8080/"
    },
    "id": "pq4Q17OSdxbj",
    "outputId": "d7987062-51cf-43fa-9ddb-4e4622022566"
   },
   "outputs": [
    {
     "name": "stdout",
     "output_type": "stream",
     "text": [
      "train classification report \n",
      "                precision    recall  f1-score   support\n",
      "\n",
      "        ENFJ       0.91      0.44      0.59       152\n",
      "        ENFP       0.84      0.76      0.80       540\n",
      "        ENTJ       0.92      0.64      0.76       185\n",
      "        ENTP       0.84      0.81      0.82       548\n",
      "        ESFJ       0.83      0.29      0.43        34\n",
      "        ESFP       1.00      0.16      0.27        38\n",
      "        ESTJ       1.00      0.23      0.37        31\n",
      "        ESTP       0.95      0.51      0.66        71\n",
      "        INFJ       0.81      0.85      0.83      1176\n",
      "        INFP       0.77      0.93      0.84      1465\n",
      "        INTJ       0.83      0.85      0.84       873\n",
      "        INTP       0.81      0.90      0.85      1043\n",
      "        ISFJ       0.93      0.65      0.77       133\n",
      "        ISFP       0.88      0.59      0.71       217\n",
      "        ISTJ       0.88      0.65      0.75       164\n",
      "        ISTP       0.89      0.81      0.85       270\n",
      "\n",
      "    accuracy                           0.82      6940\n",
      "   macro avg       0.88      0.63      0.70      6940\n",
      "weighted avg       0.83      0.82      0.81      6940\n",
      "\n",
      "test classification report \n",
      "               precision    recall  f1-score   support\n",
      "\n",
      "        ENFJ       0.67      0.21      0.32        38\n",
      "        ENFP       0.71      0.59      0.64       135\n",
      "        ENTJ       0.65      0.28      0.39        46\n",
      "        ENTP       0.64      0.56      0.60       137\n",
      "        ESFJ       1.00      0.38      0.55         8\n",
      "        ESFP       0.00      0.00      0.00        10\n",
      "        ESTJ       1.00      0.12      0.22         8\n",
      "        ESTP       0.71      0.28      0.40        18\n",
      "        INFJ       0.70      0.72      0.71       294\n",
      "        INFP       0.62      0.87      0.72       367\n",
      "        INTJ       0.63      0.66      0.64       218\n",
      "        INTP       0.71      0.82      0.76       261\n",
      "        ISFJ       0.60      0.27      0.37        33\n",
      "        ISFP       0.83      0.35      0.49        54\n",
      "        ISTJ       0.76      0.32      0.45        41\n",
      "        ISTP       0.66      0.55      0.60        67\n",
      "\n",
      "    accuracy                           0.66      1735\n",
      "   macro avg       0.68      0.44      0.49      1735\n",
      "weighted avg       0.67      0.66      0.65      1735\n",
      "\n"
     ]
    },
    {
     "name": "stderr",
     "output_type": "stream",
     "text": [
      "/Library/anaconda3/envs/ml/lib/python3.9/site-packages/sklearn/metrics/_classification.py:1245: UndefinedMetricWarning: Precision and F-score are ill-defined and being set to 0.0 in labels with no predicted samples. Use `zero_division` parameter to control this behavior.\n",
      "  _warn_prf(average, modifier, msg_start, len(result))\n",
      "/Library/anaconda3/envs/ml/lib/python3.9/site-packages/sklearn/metrics/_classification.py:1245: UndefinedMetricWarning: Precision and F-score are ill-defined and being set to 0.0 in labels with no predicted samples. Use `zero_division` parameter to control this behavior.\n",
      "  _warn_prf(average, modifier, msg_start, len(result))\n",
      "/Library/anaconda3/envs/ml/lib/python3.9/site-packages/sklearn/metrics/_classification.py:1245: UndefinedMetricWarning: Precision and F-score are ill-defined and being set to 0.0 in labels with no predicted samples. Use `zero_division` parameter to control this behavior.\n",
      "  _warn_prf(average, modifier, msg_start, len(result))\n"
     ]
    }
   ],
   "source": [
    "print('train classification report \\n ',classification_report(train_target,model_linear_svc.predict(train_post),target_names=target_encoder.inverse_transform([i for i in range(16)])))\n",
    "print('test classification report \\n',classification_report(test_target,model_linear_svc.predict(test_post),target_names=target_encoder.inverse_transform([i for i in range(16)])))"
   ]
  },
  {
   "cell_type": "code",
   "execution_count": 14,
   "metadata": {
    "id": "Br4tSAP-gKSD"
   },
   "outputs": [],
   "source": [
    "models_accuracy={}\n",
    "models_accuracy['logistic regression']=accuracy_score(test_target,model_log.predict(test_post))\n",
    "models_accuracy['Linear Support Vector classifier']=accuracy_score(test_target,model_linear_svc.predict(test_post))\n",
    "models_accuracy['Support Vector classifier']=accuracy_score(test_target,model_svc.predict(test_post))"
   ]
  },
  {
   "cell_type": "code",
   "execution_count": 15,
   "metadata": {
    "colab": {
     "base_uri": "https://localhost:8080/"
    },
    "id": "c52t3tw2gXEK",
    "outputId": "89b88f79-b2e8-4174-882e-6f198b266208"
   },
   "outputs": [
    {
     "name": "stdout",
     "output_type": "stream",
     "text": [
      "{'logistic regression': 0.631700288184438, 'Linear Support Vector classifier': 0.6645533141210375, 'Support Vector classifier': 0.6426512968299711}\n"
     ]
    }
   ],
   "source": [
    "print(models_accuracy)"
   ]
  },
  {
   "cell_type": "code",
   "execution_count": 41,
   "metadata": {},
   "outputs": [],
   "source": [
    "import io\n",
    "import uvicorn\n",
    "import numpy as np\n",
    "import nest_asyncio\n",
    "from enum import Enum\n",
    "from fastapi import FastAPI, HTTPException\n",
    "from fastapi.encoders import jsonable_encoder\n",
    "from fastapi.responses import JSONResponse"
   ]
  },
  {
   "cell_type": "code",
   "execution_count": null,
   "metadata": {},
   "outputs": [
    {
     "name": "stderr",
     "output_type": "stream",
     "text": [
      "INFO:     Started server process [87265]\n",
      "INFO:     Waiting for application startup.\n",
      "INFO:     Application startup complete.\n",
      "INFO:     Uvicorn running on http://127.0.0.1:8000 (Press CTRL+C to quit)\n"
     ]
    },
    {
     "name": "stdout",
     "output_type": "stream",
     "text": [
      "INFO:     127.0.0.1:58353 - \"GET /docs HTTP/1.1\" 200 OK\n",
      "INFO:     127.0.0.1:58353 - \"GET /openapi.json HTTP/1.1\" 200 OK\n"
     ]
    },
    {
     "name": "stderr",
     "output_type": "stream",
     "text": [
      "100%|██████████| 1/1 [00:00<00:00, 14716.86it/s]"
     ]
    },
    {
     "name": "stdout",
     "output_type": "stream",
     "text": [
      "INFO:     127.0.0.1:58353 - \"POST /predict?model=Logistic%20Regression%20Classifier&sentence=hi HTTP/1.1\" 200 OK\n"
     ]
    },
    {
     "name": "stderr",
     "output_type": "stream",
     "text": [
      "\n",
      "100%|██████████| 1/1 [00:00<00:00, 14027.77it/s]"
     ]
    },
    {
     "name": "stdout",
     "output_type": "stream",
     "text": [
      "INFO:     127.0.0.1:58354 - \"POST /predict?model=Logistic%20Regression%20Classifier&sentence=i%20like%20reading%20books%20and%20chilling%20on%20the%20vibes HTTP/1.1\" 200 OK\n"
     ]
    },
    {
     "name": "stderr",
     "output_type": "stream",
     "text": [
      "\n",
      "100%|██████████| 1/1 [00:00<00:00, 16131.94it/s]"
     ]
    },
    {
     "name": "stdout",
     "output_type": "stream",
     "text": [
      "INFO:     127.0.0.1:58374 - \"POST /predict?model=Logistic%20Regression%20Classifier&sentence=i%20am%20sad HTTP/1.1\" 200 OK\n"
     ]
    },
    {
     "name": "stderr",
     "output_type": "stream",
     "text": [
      "\n",
      "100%|██████████| 1/1 [00:00<00:00, 12052.60it/s]"
     ]
    },
    {
     "name": "stdout",
     "output_type": "stream",
     "text": [
      "INFO:     127.0.0.1:58376 - \"POST /predict?model=Logistic%20Regression%20Classifier&sentence=i%20am%20happy HTTP/1.1\" 200 OK\n"
     ]
    },
    {
     "name": "stderr",
     "output_type": "stream",
     "text": [
      "\n",
      "100%|██████████| 1/1 [00:00<00:00, 6452.78it/s]"
     ]
    },
    {
     "name": "stdout",
     "output_type": "stream",
     "text": [
      "INFO:     127.0.0.1:58382 - \"POST /predict?model=Logistic%20Regression%20Classifier&sentence=i%20am%20angry HTTP/1.1\" 200 OK\n"
     ]
    },
    {
     "name": "stderr",
     "output_type": "stream",
     "text": [
      "\n",
      "100%|██████████| 1/1 [00:00<00:00, 13148.29it/s]"
     ]
    },
    {
     "name": "stdout",
     "output_type": "stream",
     "text": [
      "INFO:     127.0.0.1:58389 - \"POST /predict?model=Logistic%20Regression%20Classifier&sentence=hi%20i%20feel%20very%20sad%20today HTTP/1.1\" 200 OK\n"
     ]
    },
    {
     "name": "stderr",
     "output_type": "stream",
     "text": [
      "\n",
      "100%|██████████| 1/1 [00:00<00:00, 16131.94it/s]"
     ]
    },
    {
     "name": "stdout",
     "output_type": "stream",
     "text": [
      "INFO:     127.0.0.1:58397 - \"POST /predict?model=SVM%20Classifier&sentence=i%20am%20sad HTTP/1.1\" 200 OK\n"
     ]
    },
    {
     "name": "stderr",
     "output_type": "stream",
     "text": [
      "\n",
      "100%|██████████| 1/1 [00:00<00:00, 15650.39it/s]"
     ]
    },
    {
     "name": "stdout",
     "output_type": "stream",
     "text": [
      "INFO:     127.0.0.1:58397 - \"POST /predict?model=SVM%20Classifier&sentence=i%20am%20happy HTTP/1.1\" 200 OK\n"
     ]
    },
    {
     "name": "stderr",
     "output_type": "stream",
     "text": [
      "\n",
      "100%|██████████| 1/1 [00:00<00:00, 16131.94it/s]"
     ]
    },
    {
     "name": "stdout",
     "output_type": "stream",
     "text": [
      "INFO:     127.0.0.1:58401 - \"POST /predict?model=SVM%20Classifier&sentence=i%20am%20moody HTTP/1.1\" 200 OK\n"
     ]
    },
    {
     "name": "stderr",
     "output_type": "stream",
     "text": [
      "\n"
     ]
    },
    {
     "name": "stdout",
     "output_type": "stream",
     "text": [
      "INFO:     127.0.0.1:58402 - \"GET /docs HTTP/1.1\" 200 OK\n",
      "INFO:     127.0.0.1:58402 - \"GET /openapi.json HTTP/1.1\" 200 OK\n"
     ]
    },
    {
     "name": "stderr",
     "output_type": "stream",
     "text": [
      "100%|██████████| 1/1 [00:00<00:00, 10131.17it/s]"
     ]
    },
    {
     "name": "stdout",
     "output_type": "stream",
     "text": [
      "INFO:     127.0.0.1:58403 - \"POST /predict?model=Logistic%20Regression%20Classifier&sentence=today%20i%20feel%20very%20sad HTTP/1.1\" 200 OK\n"
     ]
    },
    {
     "name": "stderr",
     "output_type": "stream",
     "text": [
      "\n",
      "100%|██████████| 1/1 [00:00<00:00, 15141.89it/s]"
     ]
    },
    {
     "name": "stdout",
     "output_type": "stream",
     "text": [
      "INFO:     127.0.0.1:58417 - \"POST /predict?model=Logistic%20Regression%20Classifier&sentence=today%20i%20feel%20very%20angry HTTP/1.1\" 200 OK\n"
     ]
    },
    {
     "name": "stderr",
     "output_type": "stream",
     "text": [
      "\n",
      "100%|██████████| 1/1 [00:00<00:00, 10433.59it/s]"
     ]
    },
    {
     "name": "stdout",
     "output_type": "stream",
     "text": [
      "INFO:     127.0.0.1:58431 - \"POST /predict?model=Logistic%20Regression%20Classifier&sentence=today%20i%20feel%20very%20angry.%20why%20is%20no%20one%20talking%20to%20me. HTTP/1.1\" 200 OK\n"
     ]
    },
    {
     "name": "stderr",
     "output_type": "stream",
     "text": [
      "\n",
      "100%|██████████| 1/1 [00:00<00:00, 3663.15it/s]"
     ]
    },
    {
     "name": "stdout",
     "output_type": "stream",
     "text": [
      "INFO:     127.0.0.1:58456 - \"POST /predict?model=Logistic%20Regression%20Classifier&sentence=http%3A%2F%2Fwww.youtube.com%2Fwatch%3Fv%3DqsXHcwe3krw%7C%7C%7Chttp%3A%2F%2F41.media.tumblr.com%2Ftumblr_lfouy03PMA1qa1rooo1_500.jpg%7C%7C%7Cenfp%20and%20intj%20moments%20%20https%3A%2F%2Fwww.youtube.com%2Fwatch%3Fv%3Diz7lE1g4XM4%20%20sportscenter%20not%20top%20ten%20plays%20%20https%3A%2F%2Fwww.youtube.com%2Fwatch%3Fv%3DuCdfze1etec%20%20pranks%7C%7C%7CWhat%20has%20been%20the%20most%20life-changing%20experience%20in%20your%20life%3F%7C%7C%7Chttp%3A%2F%2Fwww.youtube.com%2Fwatch%3Fv%3DvXZeYwwRDw8%20%20%20http%3A%2F%2Fwww.youtube.com%2Fwatch%3Fv%3Du8ejam5DP3E%20%20On%20repeat%20for%20most%20of%20today.%7C%7C%7CMay%20the%20PerC%20Experience%20immerse%20you.%7C%7C%7CThe%20last%20thing%20my%20INFJ%20friend%20posted%20on%20his%20facebook%20before%20committing%20suicide%20the%20next%20day.%20Rest%20in%20peace~%20%20%20http%3A%2F%2Fvimeo.com%2F22842206%7C%7C%7CHello%20ENFJ7.%20Sorry%20to%20hear%20of%20your%20distress.%20It%27s%20only%20natural%20for%20a%20relationship%20to%20not%20be%20perfection%20all%20the%20time%20in%20every%20moment%20of%20existence.%20Try%20to%20figure%20the%20hard%20times%20as%20times%20of%20growth%2C%20as...%7C%7C%7C84389%20%2084390%20%20http%3A%2F%2Fwallpaperpassion.com%2Fupload%2F23700%2Ffriendship-boy-and-girl-wallpaper.jpg%20%20http%3A%2F%2Fassets.dornob.com%2Fwp-content%2Fuploads%2F2010%2F04%2Fround-home-design.jpg%20...%7C%7C%7CWelcome HTTP/1.1\" 200 OK\n"
     ]
    },
    {
     "name": "stderr",
     "output_type": "stream",
     "text": [
      "\n",
      "100%|██████████| 1/1 [00:00<00:00, 13148.29it/s]"
     ]
    },
    {
     "name": "stdout",
     "output_type": "stream",
     "text": [
      "INFO:     127.0.0.1:58456 - \"POST /predict?model=Logistic%20Regression%20Classifier&sentence=today%20i%20feel%20very%20angry.%20why%20is%20no%20one%20talking%20to%20me. HTTP/1.1\" 200 OK\n"
     ]
    },
    {
     "name": "stderr",
     "output_type": "stream",
     "text": [
      "\n"
     ]
    }
   ],
   "source": [
    "# Assign an instance of the FastAPI class to the variable \"app\".\n",
    "# You will interact with your api using this instance.\n",
    "app = FastAPI(title='Deploying a ML Model with FastAPI')\n",
    "\n",
    "class Model(str, Enum):\n",
    "    model1 = 'Logistic Regression Classifier'\n",
    "    model2= 'SVM Classifier'\n",
    "    model3 = 'Linear SVM Classifier'\n",
    "\n",
    "# By using @app.get(\"/\") you are allowing the GET method to work for the / endpoint.\n",
    "@app.get(\"/\")\n",
    "def home():\n",
    "    return \"Welcome to the personality predictor. Now head over to http://localhost:8000/docs.\"\n",
    "\n",
    "# This endpoint handles all the logic necessary for the object detection to work.\n",
    "# It requires the desired model and the image in which to perform object detection.\n",
    "@app.post(\"/predict\") \n",
    "def prediction(model: Model, sentence: str):\n",
    "    \n",
    "    if len(sentence) == 0:\n",
    "        raise HTTPException(status_code=415, detail=\"Input must not be empty.\")\n",
    "        \n",
    "    sentence = [sentence]\n",
    "    \n",
    "    def clear_request_text(data):\n",
    "        cleaned_text=[]\n",
    "        for sentence in tqdm(data):\n",
    "            sentence=sentence.lower()\n",
    "\n",
    "    #         removing links from text data\n",
    "            sentence=re.sub('https?://[^\\s<>\"]+|www\\.[^\\s<>\"]+',' ',sentence)\n",
    "\n",
    "    #         removing other symbols\n",
    "            sentence=re.sub('[^0-9a-z]',' ',sentence)\n",
    "\n",
    "            cleaned_text.append(sentence)\n",
    "        return cleaned_text\n",
    "\n",
    "    # 1. CLEAR TEXT\n",
    "    cleared_sentence = clear_request_text(sentence)\n",
    "    \n",
    "    # 2. TRANSFORM SENTENCE TO DOCUMENT-TERM MATRIX\n",
    "    dtm_sentence = vectorizer.transform(cleared_sentence).toarray()\n",
    "    \n",
    "    # 3. RUN PERSONALITY PREDICTOR MODEL\n",
    "    if model == 'Logistic Regression Classifier':\n",
    "        prediction = target_encoder.inverse_transform([i for i in range(16)])[model_log.predict(dtm_sentence)]\n",
    "    elif model == 'SVM Classifier':\n",
    "        prediction = target_encoder.inverse_transform([i for i in range(16)])[model_svc.predict(dtm_sentence)]\n",
    "    elif model == 'Linear SVM Classifier':\n",
    "        prediction = target_encoder.inverse_transform([i for i in range(16)])[model_linear_svc.predict(dtm_sentence)]\n",
    "    \n",
    "    # 4. RETURN PREDICTION\n",
    "    return str(prediction)\n",
    "\n",
    "# Allows the server to be run in this interactive environment\n",
    "nest_asyncio.apply()\n",
    "\n",
    "# Host depends on the setup you selected (docker or virtual env)\n",
    "host = \"127.0.0.1\"\n",
    "\n",
    "# Spin up the server!    \n",
    "uvicorn.run(app, host=host, port=8000)"
   ]
  },
  {
   "cell_type": "code",
   "execution_count": 34,
   "metadata": {},
   "outputs": [
    {
     "name": "stderr",
     "output_type": "stream",
     "text": [
      "INFO:     Started server process [87265]\n",
      "INFO:     Waiting for application startup.\n",
      "INFO:     Application startup complete.\n",
      "INFO:     Uvicorn running on http://127.0.0.1:8000 (Press CTRL+C to quit)\n"
     ]
    },
    {
     "name": "stdout",
     "output_type": "stream",
     "text": [
      "INFO:     127.0.0.1:57798 - \"GET /docs HTTP/1.1\" 200 OK\n",
      "INFO:     127.0.0.1:57798 - \"GET /openapi.json HTTP/1.1\" 200 OK\n"
     ]
    },
    {
     "name": "stderr",
     "output_type": "stream",
     "text": [
      "100%|██████████| 1/1 [00:00<00:00, 14463.12it/s]"
     ]
    },
    {
     "name": "stdout",
     "output_type": "stream",
     "text": [
      "INFO:     127.0.0.1:57799 - \"POST /predict?model=2&sentence=hi%20i%20woke%20up%20feeling%20great%20today%20thank%20you%20all HTTP/1.1\" 500 Internal Server Error\n"
     ]
    },
    {
     "name": "stderr",
     "output_type": "stream",
     "text": [
      "\n",
      "ERROR:    Exception in ASGI application\n",
      "Traceback (most recent call last):\n",
      "  File \"/Library/anaconda3/envs/ml/lib/python3.9/site-packages/uvicorn/protocols/http/h11_impl.py\", line 373, in run_asgi\n",
      "    result = await app(self.scope, self.receive, self.send)\n",
      "  File \"/Library/anaconda3/envs/ml/lib/python3.9/site-packages/uvicorn/middleware/proxy_headers.py\", line 75, in __call__\n",
      "    return await self.app(scope, receive, send)\n",
      "  File \"/Library/anaconda3/envs/ml/lib/python3.9/site-packages/fastapi/applications.py\", line 208, in __call__\n",
      "    await super().__call__(scope, receive, send)\n",
      "  File \"/Library/anaconda3/envs/ml/lib/python3.9/site-packages/starlette/applications.py\", line 112, in __call__\n",
      "    await self.middleware_stack(scope, receive, send)\n",
      "  File \"/Library/anaconda3/envs/ml/lib/python3.9/site-packages/starlette/middleware/errors.py\", line 181, in __call__\n",
      "    raise exc\n",
      "  File \"/Library/anaconda3/envs/ml/lib/python3.9/site-packages/starlette/middleware/errors.py\", line 159, in __call__\n",
      "    await self.app(scope, receive, _send)\n",
      "  File \"/Library/anaconda3/envs/ml/lib/python3.9/site-packages/starlette/exceptions.py\", line 82, in __call__\n",
      "    raise exc\n",
      "  File \"/Library/anaconda3/envs/ml/lib/python3.9/site-packages/starlette/exceptions.py\", line 71, in __call__\n",
      "    await self.app(scope, receive, sender)\n",
      "  File \"/Library/anaconda3/envs/ml/lib/python3.9/site-packages/starlette/routing.py\", line 656, in __call__\n",
      "    await route.handle(scope, receive, send)\n",
      "  File \"/Library/anaconda3/envs/ml/lib/python3.9/site-packages/starlette/routing.py\", line 259, in handle\n",
      "    await self.app(scope, receive, send)\n",
      "  File \"/Library/anaconda3/envs/ml/lib/python3.9/site-packages/starlette/routing.py\", line 61, in app\n",
      "    response = await func(request)\n",
      "  File \"/Library/anaconda3/envs/ml/lib/python3.9/site-packages/fastapi/routing.py\", line 226, in app\n",
      "    raw_response = await run_endpoint_function(\n",
      "  File \"/Library/anaconda3/envs/ml/lib/python3.9/site-packages/fastapi/routing.py\", line 161, in run_endpoint_function\n",
      "    return await run_in_threadpool(dependant.call, **values)\n",
      "  File \"/Library/anaconda3/envs/ml/lib/python3.9/site-packages/starlette/concurrency.py\", line 39, in run_in_threadpool\n",
      "    return await anyio.to_thread.run_sync(func, *args)\n",
      "  File \"/Library/anaconda3/envs/ml/lib/python3.9/site-packages/anyio/to_thread.py\", line 28, in run_sync\n",
      "    return await get_asynclib().run_sync_in_worker_thread(func, *args, cancellable=cancellable,\n",
      "  File \"/Library/anaconda3/envs/ml/lib/python3.9/site-packages/anyio/_backends/_asyncio.py\", line 818, in run_sync_in_worker_thread\n",
      "    return await future\n",
      "  File \"/Library/anaconda3/envs/ml/lib/python3.9/asyncio/futures.py\", line 284, in __await__\n",
      "    yield self  # This tells Task to wait for completion.\n",
      "  File \"/Library/anaconda3/envs/ml/lib/python3.9/asyncio/tasks.py\", line 328, in __wakeup\n",
      "    future.result()\n",
      "  File \"/Library/anaconda3/envs/ml/lib/python3.9/asyncio/futures.py\", line 201, in result\n",
      "    raise self._exception\n",
      "  File \"/Library/anaconda3/envs/ml/lib/python3.9/site-packages/anyio/_backends/_asyncio.py\", line 754, in run\n",
      "    result = context.run(func, *args)\n",
      "  File \"<ipython-input-33-88c6730180df>\", line 54, in prediction\n",
      "    return prediction\n",
      "UnboundLocalError: local variable 'prediction' referenced before assignment\n",
      "100%|██████████| 1/1 [00:00<00:00, 11881.88it/s]"
     ]
    },
    {
     "name": "stdout",
     "output_type": "stream",
     "text": [
      "INFO:     127.0.0.1:57803 - \"POST /predict?model=2&sentence=hi%20i%20woke%20up%20feeling%20great%20today%20thank%20you%20all HTTP/1.1\" 500 Internal Server Error\n"
     ]
    },
    {
     "name": "stderr",
     "output_type": "stream",
     "text": [
      "\n",
      "ERROR:    Exception in ASGI application\n",
      "Traceback (most recent call last):\n",
      "  File \"/Library/anaconda3/envs/ml/lib/python3.9/site-packages/uvicorn/protocols/http/h11_impl.py\", line 373, in run_asgi\n",
      "    result = await app(self.scope, self.receive, self.send)\n",
      "  File \"/Library/anaconda3/envs/ml/lib/python3.9/site-packages/uvicorn/middleware/proxy_headers.py\", line 75, in __call__\n",
      "    return await self.app(scope, receive, send)\n",
      "  File \"/Library/anaconda3/envs/ml/lib/python3.9/site-packages/fastapi/applications.py\", line 208, in __call__\n",
      "    await super().__call__(scope, receive, send)\n",
      "  File \"/Library/anaconda3/envs/ml/lib/python3.9/site-packages/starlette/applications.py\", line 112, in __call__\n",
      "    await self.middleware_stack(scope, receive, send)\n",
      "  File \"/Library/anaconda3/envs/ml/lib/python3.9/site-packages/starlette/middleware/errors.py\", line 181, in __call__\n",
      "    raise exc\n",
      "  File \"/Library/anaconda3/envs/ml/lib/python3.9/site-packages/starlette/middleware/errors.py\", line 159, in __call__\n",
      "    await self.app(scope, receive, _send)\n",
      "  File \"/Library/anaconda3/envs/ml/lib/python3.9/site-packages/starlette/exceptions.py\", line 82, in __call__\n",
      "    raise exc\n",
      "  File \"/Library/anaconda3/envs/ml/lib/python3.9/site-packages/starlette/exceptions.py\", line 71, in __call__\n",
      "    await self.app(scope, receive, sender)\n",
      "  File \"/Library/anaconda3/envs/ml/lib/python3.9/site-packages/starlette/routing.py\", line 656, in __call__\n",
      "    await route.handle(scope, receive, send)\n",
      "  File \"/Library/anaconda3/envs/ml/lib/python3.9/site-packages/starlette/routing.py\", line 259, in handle\n",
      "    await self.app(scope, receive, send)\n",
      "  File \"/Library/anaconda3/envs/ml/lib/python3.9/site-packages/starlette/routing.py\", line 61, in app\n",
      "    response = await func(request)\n",
      "  File \"/Library/anaconda3/envs/ml/lib/python3.9/site-packages/fastapi/routing.py\", line 226, in app\n",
      "    raw_response = await run_endpoint_function(\n",
      "  File \"/Library/anaconda3/envs/ml/lib/python3.9/site-packages/fastapi/routing.py\", line 161, in run_endpoint_function\n",
      "    return await run_in_threadpool(dependant.call, **values)\n",
      "  File \"/Library/anaconda3/envs/ml/lib/python3.9/site-packages/starlette/concurrency.py\", line 39, in run_in_threadpool\n",
      "    return await anyio.to_thread.run_sync(func, *args)\n",
      "  File \"/Library/anaconda3/envs/ml/lib/python3.9/site-packages/anyio/to_thread.py\", line 28, in run_sync\n",
      "    return await get_asynclib().run_sync_in_worker_thread(func, *args, cancellable=cancellable,\n",
      "  File \"/Library/anaconda3/envs/ml/lib/python3.9/site-packages/anyio/_backends/_asyncio.py\", line 818, in run_sync_in_worker_thread\n",
      "    return await future\n",
      "  File \"/Library/anaconda3/envs/ml/lib/python3.9/asyncio/futures.py\", line 284, in __await__\n",
      "    yield self  # This tells Task to wait for completion.\n",
      "  File \"/Library/anaconda3/envs/ml/lib/python3.9/asyncio/tasks.py\", line 328, in __wakeup\n",
      "    future.result()\n",
      "  File \"/Library/anaconda3/envs/ml/lib/python3.9/asyncio/futures.py\", line 201, in result\n",
      "    raise self._exception\n",
      "  File \"/Library/anaconda3/envs/ml/lib/python3.9/site-packages/anyio/_backends/_asyncio.py\", line 754, in run\n",
      "    result = context.run(func, *args)\n",
      "  File \"<ipython-input-33-88c6730180df>\", line 54, in prediction\n",
      "    return prediction\n",
      "UnboundLocalError: local variable 'prediction' referenced before assignment\n",
      "INFO:     Shutting down\n",
      "INFO:     Waiting for application shutdown.\n",
      "INFO:     Application shutdown complete.\n",
      "INFO:     Finished server process [87265]\n"
     ]
    }
   ],
   "source": [
    "# Allows the server to be run in this interactive environment\n",
    "nest_asyncio.apply()\n",
    "\n",
    "# Host depends on the setup you selected (docker or virtual env)\n",
    "host = \"127.0.0.1\"\n",
    "\n",
    "# Spin up the server!    \n",
    "uvicorn.run(app, host=host, port=8000)"
   ]
  }
 ],
 "metadata": {
  "colab": {
   "collapsed_sections": [],
   "name": "MyPersonalityPredictor.ipynb",
   "provenance": []
  },
  "kernelspec": {
   "display_name": "Python 3",
   "language": "python",
   "name": "python3"
  },
  "language_info": {
   "codemirror_mode": {
    "name": "ipython",
    "version": 3
   },
   "file_extension": ".py",
   "mimetype": "text/x-python",
   "name": "python",
   "nbconvert_exporter": "python",
   "pygments_lexer": "ipython3",
   "version": "3.9.9"
  }
 },
 "nbformat": 4,
 "nbformat_minor": 1
}
