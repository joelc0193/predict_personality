{
 "cells": [
  {
   "cell_type": "markdown",
   "metadata": {},
   "source": [
    "<h1 style=\"background-color:#1aff1a;font-family:newtimeroman;font-size:550%;text-align:center;border-radius: 15px 50px;padding: 5px\">What's your personality ?</h1>\n"
   ]
  },
  {
   "cell_type": "markdown",
   "metadata": {},
   "source": [
    "<center><img src=\"https://i.pinimg.com/originals/37/20/f7/3720f720e221931c806e31bb0439b725.png\",height='500',width='600'></center>"
   ]
  },
  {
   "cell_type": "markdown",
   "metadata": {},
   "source": [
    "<h1 style=\"background-color:#bbf223;font-family:newtimeroman;font-size:350%;text-align:center;border-radius: 15px 50px;padding: 5px\">overview of dataset</h1>\n"
   ]
  },
  {
   "cell_type": "markdown",
   "metadata": {},
   "source": [
    "The Myers Briggs Type Indicator (or MBTI for short) is a personality type system that divides everyone into 16 distinct personality types across 4 axis:\n",
    "\n",
    "    Introversion (I) – Extroversion (E)\n",
    "    Intuition (N) – Sensing (S)\n",
    "    Thinking (T) – Feeling (F)\n",
    "    Judging (J) – Perceiving (P)"
   ]
  },
  {
   "cell_type": "markdown",
   "metadata": {},
   "source": [
    "So for example, someone who prefers introversion, intuition, thinking and perceiving would be labelled an INTP in the MBTI system, and there are lots of personality based components that would model or describe this person’s preferences or behaviour based on the label.\n",
    "\n",
    "It is one of, if not the, the most popular personality test in the world. It is used in businesses, online, for fun, for research and lots more. A simple google search reveals all of the different ways the test has been used over time. It’s safe to say that this test is still very relevant in the world in terms of its use."
   ]
  },
  {
   "cell_type": "markdown",
   "metadata": {},
   "source": [
    "<h1 style=\"background-color:#99b3ff;font-family:newtimeroman;font-size:550%;text-align:center;border-radius: 15px 50px;padding: 5px\">Libraries used</h1>\n"
   ]
  },
  {
   "cell_type": "code",
   "execution_count": 2,
   "metadata": {
    "execution": {
     "iopub.execute_input": "2021-07-04T17:32:30.9441Z",
     "iopub.status.busy": "2021-07-04T17:32:30.943702Z",
     "iopub.status.idle": "2021-07-04T17:32:37.351873Z",
     "shell.execute_reply": "2021-07-04T17:32:37.350509Z",
     "shell.execute_reply.started": "2021-07-04T17:32:30.944025Z"
    }
   },
   "outputs": [
    {
     "data": {
      "text/html": [
       "<div>\n",
       "<style scoped>\n",
       "    .dataframe tbody tr th:only-of-type {\n",
       "        vertical-align: middle;\n",
       "    }\n",
       "\n",
       "    .dataframe tbody tr th {\n",
       "        vertical-align: top;\n",
       "    }\n",
       "\n",
       "    .dataframe thead th {\n",
       "        text-align: right;\n",
       "    }\n",
       "</style>\n",
       "<table border=\"1\" class=\"dataframe\">\n",
       "  <thead>\n",
       "    <tr style=\"text-align: right;\">\n",
       "      <th></th>\n",
       "      <th>type</th>\n",
       "      <th>posts</th>\n",
       "    </tr>\n",
       "  </thead>\n",
       "  <tbody>\n",
       "    <tr>\n",
       "      <th>0</th>\n",
       "      <td>INFJ</td>\n",
       "      <td>'http://www.youtube.com/watch?v=qsXHcwe3krw|||...</td>\n",
       "    </tr>\n",
       "    <tr>\n",
       "      <th>1</th>\n",
       "      <td>ENTP</td>\n",
       "      <td>'I'm finding the lack of me in these posts ver...</td>\n",
       "    </tr>\n",
       "    <tr>\n",
       "      <th>2</th>\n",
       "      <td>INTP</td>\n",
       "      <td>'Good one  _____   https://www.youtube.com/wat...</td>\n",
       "    </tr>\n",
       "    <tr>\n",
       "      <th>3</th>\n",
       "      <td>INTJ</td>\n",
       "      <td>'Dear INTP,   I enjoyed our conversation the o...</td>\n",
       "    </tr>\n",
       "    <tr>\n",
       "      <th>4</th>\n",
       "      <td>ENTJ</td>\n",
       "      <td>'You're fired.|||That's another silly misconce...</td>\n",
       "    </tr>\n",
       "  </tbody>\n",
       "</table>\n",
       "</div>"
      ],
      "text/plain": [
       "   type                                              posts\n",
       "0  INFJ  'http://www.youtube.com/watch?v=qsXHcwe3krw|||...\n",
       "1  ENTP  'I'm finding the lack of me in these posts ver...\n",
       "2  INTP  'Good one  _____   https://www.youtube.com/wat...\n",
       "3  INTJ  'Dear INTP,   I enjoyed our conversation the o...\n",
       "4  ENTJ  'You're fired.|||That's another silly misconce..."
      ]
     },
     "execution_count": 2,
     "metadata": {},
     "output_type": "execute_result"
    }
   ],
   "source": [
    "import pandas as pd\n",
    "from catboost import CatBoostClassifier\n",
    "from sklearn.tree import DecisionTreeClassifier\n",
    "from sklearn.metrics import classification_report\n",
    "from sklearn.linear_model import LogisticRegression\n",
    "from sklearn.preprocessing import LabelEncoder\n",
    "from sklearn.feature_extraction.text import TfidfVectorizer\n",
    "from wordcloud import WordCloud\n",
    "from tqdm import tqdm\n",
    "import nltk\n",
    "from nltk.stem import WordNetLemmatizer\n",
    "from nltk.corpus import stopwords\n",
    "import re\n",
    "from sklearn.model_selection import train_test_split\n",
    "from sklearn.svm import SVC,LinearSVC\n",
    "from sklearn.ensemble import RandomForestClassifier,GradientBoostingClassifier\n",
    "from xgboost import XGBClassifier\n",
    "import matplotlib.pyplot as plt\n",
    "import seaborn as sns\n",
    "from sklearn.metrics import accuracy_score\n",
    "from sklearn.naive_bayes import MultinomialNB\n",
    "from sklearn.experimental import enable_hist_gradient_boosting\n",
    "from sklearn.ensemble import HistGradientBoostingClassifier\n",
    "from imblearn.over_sampling import SMOTE\n",
    "import plotly.express as px\n",
    "import warnings\n",
    "warnings.filterwarnings('ignore')\n",
    "data=pd.read_csv('mbti_1.csv')\n",
    "data.head()"
   ]
  },
  {
   "cell_type": "code",
   "execution_count": null,
   "metadata": {
    "execution": {
     "iopub.execute_input": "2021-07-04T17:32:37.353745Z",
     "iopub.status.busy": "2021-07-04T17:32:37.353435Z",
     "iopub.status.idle": "2021-07-04T17:32:37.444684Z",
     "shell.execute_reply": "2021-07-04T17:32:37.443514Z",
     "shell.execute_reply.started": "2021-07-04T17:32:37.353718Z"
    }
   },
   "outputs": [],
   "source": [
    "data.describe(include='O')"
   ]
  },
  {
   "cell_type": "code",
   "execution_count": null,
   "metadata": {
    "execution": {
     "iopub.execute_input": "2021-07-04T17:32:37.447554Z",
     "iopub.status.busy": "2021-07-04T17:32:37.447092Z",
     "iopub.status.idle": "2021-07-04T17:32:37.459495Z",
     "shell.execute_reply": "2021-07-04T17:32:37.457842Z",
     "shell.execute_reply.started": "2021-07-04T17:32:37.447511Z"
    }
   },
   "outputs": [],
   "source": [
    "data['type'].value_counts()"
   ]
  },
  {
   "cell_type": "code",
   "execution_count": null,
   "metadata": {
    "execution": {
     "iopub.execute_input": "2021-07-04T17:32:37.462921Z",
     "iopub.status.busy": "2021-07-04T17:32:37.462439Z",
     "iopub.status.idle": "2021-07-04T17:32:37.479434Z",
     "shell.execute_reply": "2021-07-04T17:32:37.478092Z",
     "shell.execute_reply.started": "2021-07-04T17:32:37.462879Z"
    }
   },
   "outputs": [],
   "source": [
    "data.info()"
   ]
  },
  {
   "cell_type": "code",
   "execution_count": null,
   "metadata": {
    "execution": {
     "iopub.execute_input": "2021-07-04T17:32:37.481478Z",
     "iopub.status.busy": "2021-07-04T17:32:37.481013Z",
     "iopub.status.idle": "2021-07-04T17:32:37.499201Z",
     "shell.execute_reply": "2021-07-04T17:32:37.497733Z",
     "shell.execute_reply.started": "2021-07-04T17:32:37.481438Z"
    }
   },
   "outputs": [],
   "source": [
    "data.posts[0]"
   ]
  },
  {
   "cell_type": "markdown",
   "metadata": {},
   "source": [
    "### From above it is quite evident that there are many links in the text data. That needed to be removed."
   ]
  },
  {
   "cell_type": "code",
   "execution_count": null,
   "metadata": {
    "execution": {
     "iopub.execute_input": "2021-07-04T17:32:37.501819Z",
     "iopub.status.busy": "2021-07-04T17:32:37.501351Z",
     "iopub.status.idle": "2021-07-04T17:32:37.525627Z",
     "shell.execute_reply": "2021-07-04T17:32:37.524403Z",
     "shell.execute_reply.started": "2021-07-04T17:32:37.50177Z"
    }
   },
   "outputs": [],
   "source": [
    "# Stratify split to ensure equal distribution of data\n",
    "\n",
    "train_data,test_data=train_test_split(data,test_size=0.2,random_state=42,stratify=data.type)"
   ]
  },
  {
   "cell_type": "markdown",
   "metadata": {},
   "source": [
    "### Function to clean the text data."
   ]
  },
  {
   "cell_type": "code",
   "execution_count": null,
   "metadata": {
    "execution": {
     "iopub.execute_input": "2021-07-04T17:32:37.529395Z",
     "iopub.status.busy": "2021-07-04T17:32:37.528543Z",
     "iopub.status.idle": "2021-07-04T17:32:37.537482Z",
     "shell.execute_reply": "2021-07-04T17:32:37.536387Z",
     "shell.execute_reply.started": "2021-07-04T17:32:37.529348Z"
    }
   },
   "outputs": [],
   "source": [
    "def clear_text(data):\n",
    "    data_length=[]\n",
    "    lemmatizer=WordNetLemmatizer()\n",
    "    cleaned_text=[]\n",
    "    for sentence in tqdm(data.posts):\n",
    "        sentence=sentence.lower()\n",
    "        \n",
    "#         removing links from text data\n",
    "        sentence=re.sub('https?://[^\\s<>\"]+|www\\.[^\\s<>\"]+',' ',sentence)\n",
    "    \n",
    "#         removing other symbols\n",
    "        sentence=re.sub('[^0-9a-z]',' ',sentence)\n",
    "    \n",
    "        \n",
    "        data_length.append(len(sentence.split()))\n",
    "        cleaned_text.append(sentence)\n",
    "    return cleaned_text,data_length"
   ]
  },
  {
   "cell_type": "code",
   "execution_count": null,
   "metadata": {
    "execution": {
     "iopub.execute_input": "2021-07-04T17:32:37.541665Z",
     "iopub.status.busy": "2021-07-04T17:32:37.541222Z",
     "iopub.status.idle": "2021-07-04T17:32:44.076972Z",
     "shell.execute_reply": "2021-07-04T17:32:44.075182Z",
     "shell.execute_reply.started": "2021-07-04T17:32:37.541617Z"
    }
   },
   "outputs": [],
   "source": [
    "train_data.posts,train_length=clear_text(train_data)"
   ]
  },
  {
   "cell_type": "code",
   "execution_count": null,
   "metadata": {
    "execution": {
     "iopub.execute_input": "2021-07-04T17:32:44.080395Z",
     "iopub.status.busy": "2021-07-04T17:32:44.079872Z",
     "iopub.status.idle": "2021-07-04T17:32:46.264662Z",
     "shell.execute_reply": "2021-07-04T17:32:46.263289Z",
     "shell.execute_reply.started": "2021-07-04T17:32:44.080352Z"
    }
   },
   "outputs": [],
   "source": [
    "test_data.posts,test_length=clear_text(test_data)"
   ]
  },
  {
   "cell_type": "code",
   "execution_count": null,
   "metadata": {
    "execution": {
     "iopub.execute_input": "2021-07-04T17:32:46.273007Z",
     "iopub.status.busy": "2021-07-04T17:32:46.270124Z",
     "iopub.status.idle": "2021-07-04T17:32:46.939388Z",
     "shell.execute_reply": "2021-07-04T17:32:46.938351Z",
     "shell.execute_reply.started": "2021-07-04T17:32:46.272963Z"
    }
   },
   "outputs": [],
   "source": [
    "plt.figure(figsize=(15,10))\n",
    "sns.distplot(train_length,label='train data word length')\n",
    "sns.distplot(test_length,label='test data word length')\n",
    "plt.title('Number of words in text',fontdict={'size':20,'style':'italic'})\n",
    "plt.show()"
   ]
  },
  {
   "cell_type": "code",
   "execution_count": null,
   "metadata": {
    "execution": {
     "iopub.execute_input": "2021-07-04T17:32:46.941801Z",
     "iopub.status.busy": "2021-07-04T17:32:46.941241Z",
     "iopub.status.idle": "2021-07-04T17:32:48.094568Z",
     "shell.execute_reply": "2021-07-04T17:32:48.093211Z",
     "shell.execute_reply.started": "2021-07-04T17:32:46.94173Z"
    }
   },
   "outputs": [],
   "source": [
    "\n",
    "px.pie(train_data,names='type',title='Personality type',hole=0.3)\n"
   ]
  },
  {
   "cell_type": "code",
   "execution_count": null,
   "metadata": {
    "_kg_hide-input": true,
    "execution": {
     "iopub.execute_input": "2021-07-04T17:32:48.09703Z",
     "iopub.status.busy": "2021-07-04T17:32:48.096598Z",
     "iopub.status.idle": "2021-07-04T17:32:48.104141Z",
     "shell.execute_reply": "2021-07-04T17:32:48.102324Z",
     "shell.execute_reply.started": "2021-07-04T17:32:48.096988Z"
    }
   },
   "outputs": [],
   "source": [
    "class Lemmatizer(object):\n",
    "    def __init__(self):\n",
    "        self.lemmatizer = WordNetLemmatizer()\n",
    "    def __call__(self, sentence):\n",
    "        return [self.lemmatizer.lemmatize(word) for word in sentence.split() if len(word)>2]"
   ]
  },
  {
   "cell_type": "markdown",
   "metadata": {},
   "source": [
    "<h1 style=\"background-color:#99b3ff;font-family:newtimeroman;font-size:550%;text-align:center;border-radius: 15px 50px;padding: 5px\">Tokenizing words</h1>"
   ]
  },
  {
   "cell_type": "code",
   "execution_count": null,
   "metadata": {
    "_kg_hide-output": true,
    "execution": {
     "iopub.execute_input": "2021-07-04T17:32:48.107123Z",
     "iopub.status.busy": "2021-07-04T17:32:48.1065Z",
     "iopub.status.idle": "2021-07-04T17:33:27.446387Z",
     "shell.execute_reply": "2021-07-04T17:33:27.445389Z",
     "shell.execute_reply.started": "2021-07-04T17:32:48.107082Z"
    }
   },
   "outputs": [],
   "source": [
    "vectorizer=TfidfVectorizer( max_features=5000,stop_words='english',tokenizer=Lemmatizer())\n",
    "vectorizer.fit(train_data.posts)"
   ]
  },
  {
   "cell_type": "code",
   "execution_count": null,
   "metadata": {
    "execution": {
     "iopub.execute_input": "2021-07-04T17:33:27.448444Z",
     "iopub.status.busy": "2021-07-04T17:33:27.448013Z",
     "iopub.status.idle": "2021-07-04T17:33:28.310867Z",
     "shell.execute_reply": "2021-07-04T17:33:28.309885Z",
     "shell.execute_reply.started": "2021-07-04T17:33:27.448402Z"
    }
   },
   "outputs": [],
   "source": [
    "feature_names=vectorizer.get_feature_names()\n",
    "wc=WordCloud(max_words=400)\n",
    "wc.generate(' '.join(word for word in feature_names[500:3500] ))\n",
    "plt.figure(figsize=(20,15))\n",
    "plt.axis('off')\n",
    "plt.imshow(wc)"
   ]
  },
  {
   "cell_type": "code",
   "execution_count": null,
   "metadata": {
    "execution": {
     "iopub.execute_input": "2021-07-04T17:33:28.313124Z",
     "iopub.status.busy": "2021-07-04T17:33:28.312467Z",
     "iopub.status.idle": "2021-07-04T17:34:14.896901Z",
     "shell.execute_reply": "2021-07-04T17:34:14.895689Z",
     "shell.execute_reply.started": "2021-07-04T17:33:28.313074Z"
    }
   },
   "outputs": [],
   "source": [
    "train_post=vectorizer.transform(train_data.posts).toarray()\n",
    "test_post=vectorizer.transform(test_data.posts).toarray()"
   ]
  },
  {
   "cell_type": "code",
   "execution_count": null,
   "metadata": {
    "execution": {
     "iopub.execute_input": "2021-07-04T17:34:14.89907Z",
     "iopub.status.busy": "2021-07-04T17:34:14.898654Z",
     "iopub.status.idle": "2021-07-04T17:34:14.908696Z",
     "shell.execute_reply": "2021-07-04T17:34:14.907235Z",
     "shell.execute_reply.started": "2021-07-04T17:34:14.89902Z"
    }
   },
   "outputs": [],
   "source": [
    "train_post.shape"
   ]
  },
  {
   "cell_type": "code",
   "execution_count": null,
   "metadata": {
    "execution": {
     "iopub.execute_input": "2021-07-04T17:34:14.911347Z",
     "iopub.status.busy": "2021-07-04T17:34:14.910823Z",
     "iopub.status.idle": "2021-07-04T17:34:14.923661Z",
     "shell.execute_reply": "2021-07-04T17:34:14.922296Z",
     "shell.execute_reply.started": "2021-07-04T17:34:14.911287Z"
    }
   },
   "outputs": [],
   "source": [
    "target_encoder=LabelEncoder()\n",
    "train_target=target_encoder.fit_transform(train_data.type)\n",
    "test_target=target_encoder.fit_transform(test_data.type)"
   ]
  },
  {
   "cell_type": "markdown",
   "metadata": {},
   "source": [
    "<h1 style=\"background-color:#99b3ff;font-family:newtimeroman;font-size:550%;text-align:center;border-radius: 15px 50px;padding: 5px\">Model selection</h1>"
   ]
  },
  {
   "cell_type": "code",
   "execution_count": null,
   "metadata": {
    "execution": {
     "iopub.execute_input": "2021-07-04T17:34:14.925843Z",
     "iopub.status.busy": "2021-07-04T17:34:14.925358Z",
     "iopub.status.idle": "2021-07-04T17:34:14.935099Z",
     "shell.execute_reply": "2021-07-04T17:34:14.933966Z",
     "shell.execute_reply.started": "2021-07-04T17:34:14.925801Z"
    }
   },
   "outputs": [],
   "source": [
    "models_accuracy={}"
   ]
  },
  {
   "cell_type": "markdown",
   "metadata": {},
   "source": [
    "<h4 style=\"background-color:#cc99ff;font-family:newtimeroman;font-size:300%;text-align:center;border-radius: 15px 50px;padding: 5px \">Logistic Regression</h4>"
   ]
  },
  {
   "cell_type": "code",
   "execution_count": null,
   "metadata": {
    "execution": {
     "iopub.execute_input": "2021-07-04T18:09:27.051783Z",
     "iopub.status.busy": "2021-07-04T18:09:27.051421Z",
     "iopub.status.idle": "2021-07-04T18:10:17.109866Z",
     "shell.execute_reply": "2021-07-04T18:10:17.108379Z",
     "shell.execute_reply.started": "2021-07-04T18:09:27.05175Z"
    }
   },
   "outputs": [],
   "source": [
    "model_log=LogisticRegression(max_iter=3000,C=0.5,n_jobs=-1)\n",
    "model_log.fit(train_post,train_target)"
   ]
  },
  {
   "cell_type": "code",
   "execution_count": null,
   "metadata": {
    "execution": {
     "iopub.execute_input": "2021-07-04T18:10:17.113068Z",
     "iopub.status.busy": "2021-07-04T18:10:17.112551Z",
     "iopub.status.idle": "2021-07-04T18:10:17.296449Z",
     "shell.execute_reply": "2021-07-04T18:10:17.29421Z",
     "shell.execute_reply.started": "2021-07-04T18:10:17.113012Z"
    }
   },
   "outputs": [],
   "source": [
    "print('train classification report \\n ',classification_report(train_target,model_log.predict(train_post),target_names=target_encoder.inverse_transform([i for i in range(16)])))"
   ]
  },
  {
   "cell_type": "code",
   "execution_count": null,
   "metadata": {
    "execution": {
     "iopub.execute_input": "2021-07-04T18:10:17.299315Z",
     "iopub.status.busy": "2021-07-04T18:10:17.298843Z",
     "iopub.status.idle": "2021-07-04T18:10:17.361535Z",
     "shell.execute_reply": "2021-07-04T18:10:17.358606Z",
     "shell.execute_reply.started": "2021-07-04T18:10:17.299267Z"
    }
   },
   "outputs": [],
   "source": [
    "print('test classification report \\n',classification_report(test_target,model_log.predict(test_post),target_names=target_encoder.inverse_transform([i for i in range(16)])))"
   ]
  },
  {
   "cell_type": "code",
   "execution_count": null,
   "metadata": {
    "execution": {
     "iopub.execute_input": "2021-07-04T18:11:06.181797Z",
     "iopub.status.busy": "2021-07-04T18:11:06.181374Z",
     "iopub.status.idle": "2021-07-04T18:11:06.225451Z",
     "shell.execute_reply": "2021-07-04T18:11:06.223964Z",
     "shell.execute_reply.started": "2021-07-04T18:11:06.181764Z"
    }
   },
   "outputs": [],
   "source": [
    "models_accuracy['logistic regression']=accuracy_score(test_target,model_log.predict(test_post))"
   ]
  },
  {
   "cell_type": "markdown",
   "metadata": {},
   "source": [
    "<h4 style=\"background-color:#cc99ff;font-family:newtimeroman;font-size:300%;text-align:center;border-radius: 15px 50px;padding: 5px \">Linear Support Vector classifier</h4>"
   ]
  },
  {
   "cell_type": "code",
   "execution_count": null,
   "metadata": {
    "execution": {
     "iopub.execute_input": "2021-07-04T17:34:41.912735Z",
     "iopub.status.busy": "2021-07-04T17:34:41.911852Z",
     "iopub.status.idle": "2021-07-04T17:34:42.985161Z",
     "shell.execute_reply": "2021-07-04T17:34:42.984165Z",
     "shell.execute_reply.started": "2021-07-04T17:34:41.912677Z"
    }
   },
   "outputs": [],
   "source": [
    "model_linear_svc=LinearSVC(C=0.1)\n",
    "model_linear_svc.fit(train_post,train_target)"
   ]
  },
  {
   "cell_type": "code",
   "execution_count": null,
   "metadata": {
    "execution": {
     "iopub.execute_input": "2021-07-04T17:34:42.98828Z",
     "iopub.status.busy": "2021-07-04T17:34:42.987816Z",
     "iopub.status.idle": "2021-07-04T17:34:43.209317Z",
     "shell.execute_reply": "2021-07-04T17:34:43.2068Z",
     "shell.execute_reply.started": "2021-07-04T17:34:42.98824Z"
    }
   },
   "outputs": [],
   "source": [
    "print('train classification report \\n ',classification_report(train_target,model_linear_svc.predict(train_post),target_names=target_encoder.inverse_transform([i for i in range(16)])))\n",
    "print('test classification report \\n',classification_report(test_target,model_linear_svc.predict(test_post),target_names=target_encoder.inverse_transform([i for i in range(16)])))"
   ]
  },
  {
   "cell_type": "code",
   "execution_count": null,
   "metadata": {
    "execution": {
     "iopub.execute_input": "2021-07-04T17:34:43.211475Z",
     "iopub.status.busy": "2021-07-04T17:34:43.211068Z",
     "iopub.status.idle": "2021-07-04T17:34:43.253891Z",
     "shell.execute_reply": "2021-07-04T17:34:43.252293Z",
     "shell.execute_reply.started": "2021-07-04T17:34:43.211435Z"
    }
   },
   "outputs": [],
   "source": [
    "models_accuracy['Linear Support Vector classifier']=accuracy_score(test_target,model_linear_svc.predict(test_post))"
   ]
  },
  {
   "cell_type": "markdown",
   "metadata": {},
   "source": [
    "<h4 style=\"background-color:#cc99ff;font-family:newtimeroman;font-size:300%;text-align:center;border-radius: 15px 50px;padding: 5px \">Support Vector classifier</h4>"
   ]
  },
  {
   "cell_type": "code",
   "execution_count": null,
   "metadata": {
    "execution": {
     "iopub.execute_input": "2021-07-04T17:34:43.256246Z",
     "iopub.status.busy": "2021-07-04T17:34:43.255843Z",
     "iopub.status.idle": "2021-07-04T17:40:06.979781Z",
     "shell.execute_reply": "2021-07-04T17:40:06.978647Z",
     "shell.execute_reply.started": "2021-07-04T17:34:43.256206Z"
    }
   },
   "outputs": [],
   "source": [
    "model_svc=SVC()\n",
    "model_svc.fit(train_post,train_target)"
   ]
  },
  {
   "cell_type": "code",
   "execution_count": null,
   "metadata": {
    "execution": {
     "iopub.execute_input": "2021-07-04T17:40:06.98185Z",
     "iopub.status.busy": "2021-07-04T17:40:06.981217Z",
     "iopub.status.idle": "2021-07-04T17:46:24.595634Z",
     "shell.execute_reply": "2021-07-04T17:46:24.593512Z",
     "shell.execute_reply.started": "2021-07-04T17:40:06.981806Z"
    }
   },
   "outputs": [],
   "source": [
    "\n",
    "print('train classification report \\n ',classification_report(train_target,model_svc.predict(train_post),target_names=target_encoder.inverse_transform([i for i in range(16)])))\n",
    "print('test classification report \\n ',classification_report(test_target,model_svc.predict(test_post),target_names=target_encoder.inverse_transform([i for i in range(16)])))"
   ]
  },
  {
   "cell_type": "code",
   "execution_count": null,
   "metadata": {
    "execution": {
     "iopub.execute_input": "2021-07-04T17:46:24.597885Z",
     "iopub.status.busy": "2021-07-04T17:46:24.597466Z",
     "iopub.status.idle": "2021-07-04T17:47:40.299045Z",
     "shell.execute_reply": "2021-07-04T17:47:40.297976Z",
     "shell.execute_reply.started": "2021-07-04T17:46:24.597844Z"
    }
   },
   "outputs": [],
   "source": [
    "models_accuracy['Support Vector classifier']=accuracy_score(test_target,model_svc.predict(test_post))"
   ]
  },
  {
   "cell_type": "markdown",
   "metadata": {},
   "source": [
    "<h4 style=\"background-color:#cc99ff;font-family:newtimeroman;font-size:300%;text-align:center;border-radius: 15px 50px;padding: 5px \">Multinomial Naive Bayes</h4>"
   ]
  },
  {
   "cell_type": "code",
   "execution_count": null,
   "metadata": {
    "execution": {
     "iopub.execute_input": "2021-07-04T17:47:40.301065Z",
     "iopub.status.busy": "2021-07-04T17:47:40.300585Z",
     "iopub.status.idle": "2021-07-04T17:47:40.491613Z",
     "shell.execute_reply": "2021-07-04T17:47:40.490485Z",
     "shell.execute_reply.started": "2021-07-04T17:47:40.301022Z"
    }
   },
   "outputs": [],
   "source": [
    "model_multinomial_nb=MultinomialNB()\n",
    "model_multinomial_nb.fit(train_post,train_target)"
   ]
  },
  {
   "cell_type": "code",
   "execution_count": null,
   "metadata": {
    "execution": {
     "iopub.execute_input": "2021-07-04T17:47:40.494232Z",
     "iopub.status.busy": "2021-07-04T17:47:40.493541Z",
     "iopub.status.idle": "2021-07-04T17:47:40.723189Z",
     "shell.execute_reply": "2021-07-04T17:47:40.72208Z",
     "shell.execute_reply.started": "2021-07-04T17:47:40.494188Z"
    }
   },
   "outputs": [],
   "source": [
    "\n",
    "print('train classification report \\n ',classification_report(train_target,model_multinomial_nb.predict(train_post),target_names=target_encoder.inverse_transform([i for i in range(16)])))\n",
    "print('test classification report \\n ',classification_report(test_target,model_multinomial_nb.predict(test_post),target_names=target_encoder.inverse_transform([i for i in range(16)])))"
   ]
  },
  {
   "cell_type": "code",
   "execution_count": null,
   "metadata": {
    "execution": {
     "iopub.execute_input": "2021-07-04T17:47:40.725801Z",
     "iopub.status.busy": "2021-07-04T17:47:40.725008Z",
     "iopub.status.idle": "2021-07-04T17:47:40.767962Z",
     "shell.execute_reply": "2021-07-04T17:47:40.766625Z",
     "shell.execute_reply.started": "2021-07-04T17:47:40.725737Z"
    }
   },
   "outputs": [],
   "source": [
    "models_accuracy['Multinomial Naive Bayes']=accuracy_score(test_target,model_multinomial_nb.predict(test_post))"
   ]
  },
  {
   "cell_type": "markdown",
   "metadata": {},
   "source": [
    "<h4 style=\"background-color:#cc99ff;font-family:newtimeroman;font-size:300%;text-align:center;border-radius: 15px 50px;padding: 5px \">Decision Tree Classifier</h4>"
   ]
  },
  {
   "cell_type": "code",
   "execution_count": null,
   "metadata": {
    "execution": {
     "iopub.execute_input": "2021-07-04T17:47:40.770902Z",
     "iopub.status.busy": "2021-07-04T17:47:40.770024Z",
     "iopub.status.idle": "2021-07-04T17:47:46.497079Z",
     "shell.execute_reply": "2021-07-04T17:47:46.495824Z",
     "shell.execute_reply.started": "2021-07-04T17:47:40.770855Z"
    }
   },
   "outputs": [],
   "source": [
    "model_tree=DecisionTreeClassifier(max_depth=14)\n",
    "model_tree.fit(train_post,train_target)"
   ]
  },
  {
   "cell_type": "code",
   "execution_count": null,
   "metadata": {
    "execution": {
     "iopub.execute_input": "2021-07-04T17:47:46.4994Z",
     "iopub.status.busy": "2021-07-04T17:47:46.498921Z",
     "iopub.status.idle": "2021-07-04T17:47:46.663936Z",
     "shell.execute_reply": "2021-07-04T17:47:46.662558Z",
     "shell.execute_reply.started": "2021-07-04T17:47:46.499309Z"
    }
   },
   "outputs": [],
   "source": [
    "\n",
    "print('train classification report \\n ',classification_report(train_target,model_tree.predict(train_post),target_names=target_encoder.inverse_transform([i for i in range(16)])))\n",
    "print('test classification report \\n ',classification_report(test_target,model_tree.predict(test_post),target_names=target_encoder.inverse_transform([i for i in range(16)])))"
   ]
  },
  {
   "cell_type": "code",
   "execution_count": null,
   "metadata": {
    "execution": {
     "iopub.execute_input": "2021-07-04T17:47:46.666165Z",
     "iopub.status.busy": "2021-07-04T17:47:46.665681Z",
     "iopub.status.idle": "2021-07-04T17:47:46.697658Z",
     "shell.execute_reply": "2021-07-04T17:47:46.696428Z",
     "shell.execute_reply.started": "2021-07-04T17:47:46.666121Z"
    }
   },
   "outputs": [],
   "source": [
    "models_accuracy['Decision Tree classifier']=accuracy_score(test_target,model_tree.predict(test_post))"
   ]
  },
  {
   "cell_type": "markdown",
   "metadata": {},
   "source": [
    "<h4 style=\"background-color:#cc99ff;font-family:newtimeroman;font-size:300%;text-align:center;border-radius: 15px 50px;padding: 5px \">Random Forest Classifier</h4>"
   ]
  },
  {
   "cell_type": "code",
   "execution_count": null,
   "metadata": {
    "execution": {
     "iopub.execute_input": "2021-07-04T17:47:46.699641Z",
     "iopub.status.busy": "2021-07-04T17:47:46.699148Z",
     "iopub.status.idle": "2021-07-04T17:47:51.041765Z",
     "shell.execute_reply": "2021-07-04T17:47:51.040752Z",
     "shell.execute_reply.started": "2021-07-04T17:47:46.699595Z"
    }
   },
   "outputs": [],
   "source": [
    "model_forest=RandomForestClassifier(max_depth=10)\n",
    "model_forest.fit(train_post,train_target)"
   ]
  },
  {
   "cell_type": "code",
   "execution_count": null,
   "metadata": {
    "execution": {
     "iopub.execute_input": "2021-07-04T17:47:51.045036Z",
     "iopub.status.busy": "2021-07-04T17:47:51.044324Z",
     "iopub.status.idle": "2021-07-04T17:47:51.383482Z",
     "shell.execute_reply": "2021-07-04T17:47:51.382097Z",
     "shell.execute_reply.started": "2021-07-04T17:47:51.044977Z"
    }
   },
   "outputs": [],
   "source": [
    "\n",
    "print('train classification report \\n ',classification_report(train_target,model_forest.predict(train_post),target_names=target_encoder.inverse_transform([i for i in range(16)])))\n",
    "print('test classification report \\n ',classification_report(test_target,model_forest.predict(test_post),target_names=target_encoder.inverse_transform([i for i in range(16)])))"
   ]
  },
  {
   "cell_type": "code",
   "execution_count": null,
   "metadata": {
    "execution": {
     "iopub.execute_input": "2021-07-04T17:47:51.385734Z",
     "iopub.status.busy": "2021-07-04T17:47:51.385258Z",
     "iopub.status.idle": "2021-07-04T17:47:51.459757Z",
     "shell.execute_reply": "2021-07-04T17:47:51.458639Z",
     "shell.execute_reply.started": "2021-07-04T17:47:51.385651Z"
    }
   },
   "outputs": [],
   "source": [
    "models_accuracy['Random Forest Classifier']=accuracy_score(test_target,model_forest.predict(test_post))"
   ]
  },
  {
   "cell_type": "markdown",
   "metadata": {},
   "source": [
    "<h4 style=\"background-color:#cc99ff;font-family:newtimeroman;font-size:300%;text-align:center;border-radius: 15px 50px;padding: 5px \">XGBoost Classifier</h4>"
   ]
  },
  {
   "cell_type": "code",
   "execution_count": null,
   "metadata": {
    "execution": {
     "iopub.execute_input": "2021-07-04T17:47:51.461629Z",
     "iopub.status.busy": "2021-07-04T17:47:51.461192Z",
     "iopub.status.idle": "2021-07-04T17:48:30.50546Z",
     "shell.execute_reply": "2021-07-04T17:48:30.50439Z",
     "shell.execute_reply.started": "2021-07-04T17:47:51.461588Z"
    }
   },
   "outputs": [],
   "source": [
    "model_xgb=XGBClassifier(gpu_id=0,tree_method='gpu_hist',max_depth=5,n_estimators=50,learning_rate=0.1)\n",
    "model_xgb.fit(train_post,train_target)"
   ]
  },
  {
   "cell_type": "code",
   "execution_count": null,
   "metadata": {
    "execution": {
     "iopub.execute_input": "2021-07-04T17:48:30.507564Z",
     "iopub.status.busy": "2021-07-04T17:48:30.507101Z",
     "iopub.status.idle": "2021-07-04T17:48:31.339893Z",
     "shell.execute_reply": "2021-07-04T17:48:31.333875Z",
     "shell.execute_reply.started": "2021-07-04T17:48:30.507518Z"
    }
   },
   "outputs": [],
   "source": [
    "\n",
    "print('train classification report \\n ',classification_report(train_target,model_xgb.predict(train_post),target_names=target_encoder.inverse_transform([i for i in range(16)])))\n",
    "print('test classification report \\n ',classification_report(test_target,model_xgb.predict(test_post),target_names=target_encoder.inverse_transform([i for i in range(16)])))"
   ]
  },
  {
   "cell_type": "code",
   "execution_count": null,
   "metadata": {
    "execution": {
     "iopub.execute_input": "2021-07-04T17:48:31.344807Z",
     "iopub.status.busy": "2021-07-04T17:48:31.34436Z",
     "iopub.status.idle": "2021-07-04T17:48:31.735221Z",
     "shell.execute_reply": "2021-07-04T17:48:31.733525Z",
     "shell.execute_reply.started": "2021-07-04T17:48:31.344766Z"
    }
   },
   "outputs": [],
   "source": [
    "models_accuracy['XGBoost Classifier']=accuracy_score(test_target,model_xgb.predict(test_post))"
   ]
  },
  {
   "cell_type": "markdown",
   "metadata": {},
   "source": [
    "<h4 style=\"background-color:#cc99ff;font-family:newtimeroman;font-size:300%;text-align:center;border-radius: 15px 50px;padding: 5px \">CatBoost Classifier</h4>"
   ]
  },
  {
   "cell_type": "code",
   "execution_count": null,
   "metadata": {
    "execution": {
     "iopub.execute_input": "2021-07-04T17:48:31.744299Z",
     "iopub.status.busy": "2021-07-04T17:48:31.741735Z",
     "iopub.status.idle": "2021-07-04T17:51:51.691923Z",
     "shell.execute_reply": "2021-07-04T17:51:51.690702Z",
     "shell.execute_reply.started": "2021-07-04T17:48:31.74424Z"
    }
   },
   "outputs": [],
   "source": [
    "model_cat=CatBoostClassifier(loss_function='MultiClass',eval_metric='MultiClass',task_type='GPU',verbose=False)\n",
    "model_cat.fit(train_post,train_target)"
   ]
  },
  {
   "cell_type": "code",
   "execution_count": null,
   "metadata": {
    "execution": {
     "iopub.execute_input": "2021-07-04T17:51:51.696682Z",
     "iopub.status.busy": "2021-07-04T17:51:51.696328Z",
     "iopub.status.idle": "2021-07-04T17:52:14.748733Z",
     "shell.execute_reply": "2021-07-04T17:52:14.747446Z",
     "shell.execute_reply.started": "2021-07-04T17:51:51.696646Z"
    }
   },
   "outputs": [],
   "source": [
    "\n",
    "print('train classification report \\n ',classification_report(train_target,model_cat.predict(train_post),target_names=target_encoder.inverse_transform([i for i in range(16)])))\n",
    "print('test classification report \\n ',classification_report(test_target,model_cat.predict(test_post),target_names=target_encoder.inverse_transform([i for i in range(16)])))"
   ]
  },
  {
   "cell_type": "code",
   "execution_count": null,
   "metadata": {
    "execution": {
     "iopub.execute_input": "2021-07-04T17:52:14.750789Z",
     "iopub.status.busy": "2021-07-04T17:52:14.750293Z",
     "iopub.status.idle": "2021-07-04T17:52:19.175104Z",
     "shell.execute_reply": "2021-07-04T17:52:19.174087Z",
     "shell.execute_reply.started": "2021-07-04T17:52:14.750747Z"
    }
   },
   "outputs": [],
   "source": [
    "models_accuracy['CatBoost Classifier']=accuracy_score(test_target,model_cat.predict(test_post))"
   ]
  },
  {
   "cell_type": "code",
   "execution_count": null,
   "metadata": {
    "execution": {
     "iopub.execute_input": "2021-07-04T17:52:19.17704Z",
     "iopub.status.busy": "2021-07-04T17:52:19.176622Z",
     "iopub.status.idle": "2021-07-04T17:52:19.186754Z",
     "shell.execute_reply": "2021-07-04T17:52:19.185148Z",
     "shell.execute_reply.started": "2021-07-04T17:52:19.177Z"
    }
   },
   "outputs": [],
   "source": [
    "models_accuracy"
   ]
  },
  {
   "cell_type": "code",
   "execution_count": null,
   "metadata": {
    "execution": {
     "iopub.execute_input": "2021-07-04T18:00:41.726088Z",
     "iopub.status.busy": "2021-07-04T18:00:41.725659Z",
     "iopub.status.idle": "2021-07-04T18:00:41.735234Z",
     "shell.execute_reply": "2021-07-04T18:00:41.733979Z",
     "shell.execute_reply.started": "2021-07-04T18:00:41.726059Z"
    }
   },
   "outputs": [],
   "source": [
    "models_accuracy.keys()"
   ]
  },
  {
   "cell_type": "code",
   "execution_count": null,
   "metadata": {
    "execution": {
     "iopub.execute_input": "2021-07-04T18:11:15.247368Z",
     "iopub.status.busy": "2021-07-04T18:11:15.246855Z",
     "iopub.status.idle": "2021-07-04T18:11:15.259772Z",
     "shell.execute_reply": "2021-07-04T18:11:15.254441Z",
     "shell.execute_reply.started": "2021-07-04T18:11:15.247297Z"
    }
   },
   "outputs": [],
   "source": [
    "accuarcy=pd.DataFrame(models_accuracy.items(),columns=['Models','Test accuracy'])"
   ]
  },
  {
   "cell_type": "code",
   "execution_count": null,
   "metadata": {
    "execution": {
     "iopub.execute_input": "2021-07-04T18:29:52.691465Z",
     "iopub.status.busy": "2021-07-04T18:29:52.691046Z",
     "iopub.status.idle": "2021-07-04T18:29:52.71177Z",
     "shell.execute_reply": "2021-07-04T18:29:52.710493Z",
     "shell.execute_reply.started": "2021-07-04T18:29:52.691434Z"
    }
   },
   "outputs": [],
   "source": [
    "accuarcy.sort_values(by='Test accuracy',ascending=False,ignore_index=True).style.background_gradient(cmap='Blues')"
   ]
  },
  {
   "cell_type": "markdown",
   "metadata": {},
   "source": [
    "### Catboost model seems to perform well in predicting values."
   ]
  },
  {
   "cell_type": "markdown",
   "metadata": {},
   "source": [
    "<font style=\"color: red;font-size:200%;text-align:center;border-radius: 15px 50px;padding: 5px \"><center>Hope you liked this notebook. If you did please upvote it!! If having any query or suggestion, feel free to ask in comment section.</center></font>"
   ]
  }
 ],
 "metadata": {
  "kernelspec": {
   "display_name": "Python 3",
   "language": "python",
   "name": "python3"
  },
  "language_info": {
   "codemirror_mode": {
    "name": "ipython",
    "version": 3
   },
   "file_extension": ".py",
   "mimetype": "text/x-python",
   "name": "python",
   "nbconvert_exporter": "python",
   "pygments_lexer": "ipython3",
   "version": "3.9.9"
  }
 },
 "nbformat": 4,
 "nbformat_minor": 4
}
